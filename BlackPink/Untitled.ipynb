{
 "cells": [
  {
   "cell_type": "code",
   "execution_count": 2,
   "id": "2c664003",
   "metadata": {},
   "outputs": [],
   "source": [
    "import numpy as np\n",
    "from substitution import *\n",
    "from tiling import *\n",
    "\n",
    "# ============================================================\n",
    "# Define substitution rules tau1 and tau2\n",
    "alphabet1 = [\"1\", \"2\", \"3\"]\n",
    "rule1 = {\n",
    "\"1\": \"1213\",\n",
    "\"2\": \"121\",\n",
    "\"3\": \"12\"\n",
    "}\n",
    "\n",
    "tau1 = substitution(alphabet = alphabet1, rule = rule1)\n",
    "\n",
    "alphabet2 = [\"1\", \"2\", \"3\"]\n",
    "rule2 = {\n",
    "\"1\": \"2131\",\n",
    "\"2\": \"211\",\n",
    "\"3\": \"12\"\n",
    "}\n",
    "\n",
    "tau2 = substitution(alphabet = alphabet2, rule = rule2)\n"
   ]
  },
  {
   "cell_type": "code",
   "execution_count": 3,
   "id": "859c090a",
   "metadata": {},
   "outputs": [
    {
     "data": {
      "text/plain": [
       "array([[2, 2, 1],\n",
       "       [1, 1, 1],\n",
       "       [1, 0, 0]])"
      ]
     },
     "execution_count": 3,
     "metadata": {},
     "output_type": "execute_result"
    }
   ],
   "source": [
    "tau1.A"
   ]
  },
  {
   "cell_type": "code",
   "execution_count": 4,
   "id": "d4d03f26",
   "metadata": {},
   "outputs": [
    {
     "data": {
      "text/plain": [
       "array([0.70710678, 0.59346536, 0.38444619])"
      ]
     },
     "execution_count": 4,
     "metadata": {},
     "output_type": "execute_result"
    }
   ],
   "source": [
    "tau1.PF"
   ]
  },
  {
   "cell_type": "code",
   "execution_count": 13,
   "id": "a1d72be4",
   "metadata": {},
   "outputs": [
    {
     "name": "stdout",
     "output_type": "stream",
     "text": [
      "1213|121\n",
      "2131|211\n"
     ]
    }
   ],
   "source": [
    "initial_condition = \"1|2\"\n",
    "number_of_powers = 1\n",
    "\n",
    "one_hit_tau_1 = tau1.hit_k_times(initial_condition,number_of_powers)\n",
    "one_hit_tau_2 = tau2.hit_k_times(initial_condition,number_of_powers)\n",
    "\n",
    "# these are strings with the marked zero point with \"|\"\n",
    "print(one_hit_tau_1)\n",
    "print(one_hit_tau_2)\n"
   ]
  },
  {
   "cell_type": "code",
   "execution_count": 15,
   "id": "abfc99d7",
   "metadata": {},
   "outputs": [
    {
     "data": {
      "image/png": "[encoded data removed]",
      "text/plain": [
       "<Figure size 576x576 with 1 Axes>"
      ]
     },
     "metadata": {
      "needs_background": "light"
     },
     "output_type": "display_data"
    }
   ],
   "source": [
    "\n",
    "# plot\n",
    "#\n",
    "tile = tiling([one_hit_tau_1,one_hit_tau_2], [tau1, tau2])\n",
    "tile.plot_tiles()\n",
    "#\n",
    "#\n",
    "plt.savefig(\"example.pdf\")\n"
   ]
  },
  {
   "cell_type": "code",
   "execution_count": null,
   "id": "952c66a0",
   "metadata": {},
   "outputs": [],
   "source": []
  }
 ],
 "metadata": {
  "kernelspec": {
   "display_name": "Python 3 (ipykernel)",
   "language": "python",
   "name": "python3"
  },
  "language_info": {
   "codemirror_mode": {
    "name": "ipython",
    "version": 3
   },
   "file_extension": ".py",
   "mimetype": "text/x-python",
   "name": "python",
   "nbconvert_exporter": "python",
   "pygments_lexer": "ipython3",
   "version": "3.9.7"
  }
 },
 "nbformat": 4,
 "nbformat_minor": 5
}
